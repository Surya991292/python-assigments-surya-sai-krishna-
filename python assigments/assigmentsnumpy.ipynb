{
 "cells": [
  {
   "cell_type": "code",
   "execution_count": 21,
   "id": "837de4ca-f22d-4e0c-b779-42208ba5eff5",
   "metadata": {},
   "outputs": [
    {
     "name": "stdout",
     "output_type": "stream",
     "text": [
      "Array:\n",
      " [[ 9  3  0]\n",
      " [ 1  3  4]\n",
      " [ 1 10  3]]\n",
      "Sum: 34\n",
      "Mean: 3.7777777777777777\n",
      "Standard Deviation: 3.292340531117567\n"
     ]
    }
   ],
   "source": [
    "import numpy as np\n",
    "arr = np.random.randint(0, 11, (3, 3))\n",
    "arr_sum = np.sum(arr)\n",
    "arr_mean = np.mean(arr)\n",
    "arr_std = np.std(arr)\n",
    "print(\"Array:\\n\", arr)\n",
    "print(\"Sum:\", arr_sum)\n",
    "print(\"Mean:\", arr_mean)\n",
    "print(\"Standard Deviation:\", arr_std)\n"
   ]
  },
  {
   "cell_type": "code",
   "execution_count": 3,
   "id": "6ad117f4-2b66-4683-ac2a-a67565a4e075",
   "metadata": {},
   "outputs": [
    {
     "name": "stdout",
     "output_type": "stream",
     "text": [
      "[7 4 6 3 6 8 9 2 7 4]\n",
      "Cumulative Sum: [ 7 11 17 20 26 34 43 45 52 56]\n"
     ]
    }
   ],
   "source": [
    "arr = np.random.randint(1, 10, 10)  \n",
    "cumsum_arr = np.cumsum(arr)  \n",
    "print(arr)  \n",
    "print(\"Cumulative Sum:\", cumsum_arr)\n"
   ]
  },
  {
   "cell_type": "code",
   "execution_count": 9,
   "id": "0e0850cf-b289-481c-aaab-be3daf9dd0f3",
   "metadata": {},
   "outputs": [
    {
     "name": "stdout",
     "output_type": "stream",
     "text": [
      "Array A:\n",
      " [[4 8 1]\n",
      " [6 8 8]]\n",
      "Array B:\n",
      " [[9 9 5]\n",
      " [5 2 6]]\n",
      "Addition:\n",
      " [[13 17  6]\n",
      " [11 10 14]]\n",
      "Subtraction:\n",
      " [[-5 -1 -4]\n",
      " [ 1  6  2]]\n",
      "Multiplication:\n",
      " [[36 72  5]\n",
      " [30 16 48]]\n",
      "Division:\n",
      " [[0.44444444 0.88888889 0.2       ]\n",
      " [1.2        4.         1.33333333]]\n"
     ]
    }
   ],
   "source": [
    "A = np.random.randint(1, 10, (2, 3))\n",
    "B = np.random.randint(1, 10, (2, 3))\n",
    "add = A + B\n",
    "sub = A - B\n",
    "mul = A * B\n",
    "div = A / B\n",
    "print(\"Array A:\\n\", A)\n",
    "print(\"Array B:\\n\", B)\n",
    "print(\"Addition:\\n\", add)\n",
    "print(\"Subtraction:\\n\", sub)\n",
    "print(\"Multiplication:\\n\", mul)\n",
    "print(\"Division:\\n\", div)"
   ]
  },
  {
   "cell_type": "code",
   "execution_count": 11,
   "id": "70f5a746-0ed8-443f-afc7-be423f679c58",
   "metadata": {},
   "outputs": [
    {
     "name": "stdout",
     "output_type": "stream",
     "text": [
      "[[1. 0. 0. 0.]\n",
      " [0. 1. 0. 0.]\n",
      " [0. 0. 1. 0.]\n",
      " [0. 0. 0. 1.]]\n"
     ]
    }
   ],
   "source": [
    "identity_matrix = np.eye(4)\n",
    "print(identity_matrix)\n"
   ]
  },
  {
   "cell_type": "code",
   "execution_count": 13,
   "id": "cf4ddad1-36d1-4495-b336-6dfadabc288f",
   "metadata": {},
   "outputs": [
    {
     "name": "stdout",
     "output_type": "stream",
     "text": [
      "[1. 2. 3. 4. 5.]\n"
     ]
    }
   ],
   "source": [
    "a = np.array([5, 10, 15, 20, 25])\n",
    "result = a / 5\n",
    "print(result)\n"
   ]
  },
  {
   "cell_type": "code",
   "execution_count": 15,
   "id": "b7832ea9-5b55-4e93-9771-769b5f3e4fdf",
   "metadata": {},
   "outputs": [
    {
     "name": "stdout",
     "output_type": "stream",
     "text": [
      "[[ 1  2  3  4]\n",
      " [ 5  6  7  8]\n",
      " [ 9 10 11 12]]\n"
     ]
    }
   ],
   "source": [
    "arr = np.arange(1, 13)\n",
    "reshaped_arr = arr.reshape(3, 4)\n",
    "print(reshaped_arr)\n"
   ]
  },
  {
   "cell_type": "code",
   "execution_count": 17,
   "id": "704f559a-0617-404f-8070-e79e8a51eb65",
   "metadata": {},
   "outputs": [
    {
     "name": "stdout",
     "output_type": "stream",
     "text": [
      "Original Matrix:\n",
      " [[1 9 5]\n",
      " [2 4 1]\n",
      " [2 8 5]]\n",
      "Flattened Array: [1 9 5 2 4 1 2 8 5]\n"
     ]
    }
   ],
   "source": [
    "matrix = np.random.randint(1, 10, (3, 3))\n",
    "flattened = matrix.flatten()\n",
    "print(\"Original Matrix:\\n\", matrix)\n",
    "print(\"Flattened Array:\", flattened)\n"
   ]
  },
  {
   "cell_type": "code",
   "execution_count": 19,
   "id": "872b43d9-c82d-4fa2-95cf-557939f5409c",
   "metadata": {},
   "outputs": [
    {
     "name": "stdout",
     "output_type": "stream",
     "text": [
      "Matrix A:\n",
      " [[2 1 3]\n",
      " [8 7 7]\n",
      " [7 7 5]]\n",
      "Matrix B:\n",
      " [[1 2 3]\n",
      " [3 9 5]\n",
      " [1 1 3]]\n",
      "Horizontally Stacked:\n",
      " [[2 1 3 1 2 3]\n",
      " [8 7 7 3 9 5]\n",
      " [7 7 5 1 1 3]]\n",
      "Vertically Stacked:\n",
      " [[2 1 3]\n",
      " [8 7 7]\n",
      " [7 7 5]\n",
      " [1 2 3]\n",
      " [3 9 5]\n",
      " [1 1 3]]\n"
     ]
    }
   ],
   "source": [
    "A = np.random.randint(1, 10, (3, 3))\n",
    "B = np.random.randint(1, 10, (3, 3))\n",
    "h_stack = np.hstack((A, B))\n",
    "v_stack = np.vstack((A, B))\n",
    "print(\"Matrix A:\\n\", A)\n",
    "print(\"Matrix B:\\n\", B)\n",
    "print(\"Horizontally Stacked:\\n\", h_stack)\n",
    "print(\"Vertically Stacked:\\n\", v_stack)\n"
   ]
  },
  {
   "cell_type": "code",
   "execution_count": 27,
   "id": "986f15ee-35ee-44f3-8a16-3f9868bf66f7",
   "metadata": {},
   "outputs": [
    {
     "name": "stdout",
     "output_type": "stream",
     "text": [
      "[1 2 3 4 5 6 7]\n"
     ]
    }
   ],
   "source": [
    "arr1 = np.array([1, 2, 3])\n",
    "arr2 = np.array([4, 5, 6, 7])\n",
    "concatenated = np.concatenate((arr1, arr2))\n",
    "print(concatenated)\n"
   ]
  },
  {
   "cell_type": "code",
   "execution_count": 29,
   "id": "3f1f0344-0cf0-4aa3-9abe-2d325f4f25ff",
   "metadata": {},
   "outputs": [
    {
     "name": "stdout",
     "output_type": "stream",
     "text": [
      "Original Matrix:\n",
      " [[4 3]\n",
      " [2 7]\n",
      " [9 7]]\n",
      "Transposed Matrix:\n",
      " [[4 2 9]\n",
      " [3 7 7]]\n",
      "Reshaped Matrix:\n",
      " [[4 2]\n",
      " [9 3]\n",
      " [7 7]]\n"
     ]
    }
   ],
   "source": [
    "matrix = np.random.randint(1, 10, (3, 2))\n",
    "transposed = matrix.T\n",
    "reshaped = transposed.reshape(3, 2)\n",
    "print(\"Original Matrix:\\n\", matrix)\n",
    "print(\"Transposed Matrix:\\n\", transposed)\n",
    "print(\"Reshaped Matrix:\\n\", reshaped)\n"
   ]
  },
  {
   "cell_type": "code",
   "execution_count": 31,
   "id": "43339330-fe35-4304-89ae-303b2a7f848d",
   "metadata": {},
   "outputs": [
    {
     "name": "stdout",
     "output_type": "stream",
     "text": [
      "Original Array: [ 1  2  3  4  5  6  7  8  9 10 11 12 13 14 15]\n",
      "Extracted Elements: [ 3  5  7  9 11]\n"
     ]
    }
   ],
   "source": [
    "arr = np.arange(1, 16)\n",
    "extracted = arr[2:11:2]\n",
    "print(\"Original Array:\", arr)\n",
    "print(\"Extracted Elements:\", extracted)\n"
   ]
  },
  {
   "cell_type": "code",
   "execution_count": 33,
   "id": "70c044a6-6820-4840-99a5-58712dce2831",
   "metadata": {},
   "outputs": [
    {
     "name": "stdout",
     "output_type": "stream",
     "text": [
      "Original Matrix:\n",
      " [[1 9 5 4 9]\n",
      " [4 6 9 9 8]\n",
      " [5 7 3 1 4]\n",
      " [2 5 4 8 8]\n",
      " [8 9 7 9 3]]\n",
      "Extracted Sub-Matrix:\n",
      " [[9 9 8]\n",
      " [3 1 4]\n",
      " [4 8 8]]\n"
     ]
    }
   ],
   "source": [
    "matrix = np.random.randint(1, 10, (5, 5))\n",
    "sub_matrix = matrix[1:4, 2:5]\n",
    "print(\"Original Matrix:\\n\", matrix)\n",
    "print(\"Extracted Sub-Matrix:\\n\", sub_matrix)\n"
   ]
  },
  {
   "cell_type": "code",
   "execution_count": 35,
   "id": "72d04f5b-9fdd-40fa-9264-ad10910116ba",
   "metadata": {},
   "outputs": [
    {
     "name": "stdout",
     "output_type": "stream",
     "text": [
      "Modified Array: [10  9 10 10  6 10  6 10 10  7]\n"
     ]
    }
   ],
   "source": [
    "arr = np.random.randint(5, 20, 10)\n",
    "arr[arr > 10] = 10\n",
    "print(\"Modified Array:\", arr)\n"
   ]
  },
  {
   "cell_type": "code",
   "execution_count": 37,
   "id": "5057c6ce-12c1-479b-8d79-06cdfc245464",
   "metadata": {},
   "outputs": [
    {
     "name": "stdout",
     "output_type": "stream",
     "text": [
      "Original Array: [0 1 2 3 4 5 6 7 8 9]\n",
      "Selected Elements: [0 2 4 6]\n"
     ]
    }
   ],
   "source": [
    "arr = np.arange(10)\n",
    "selected_elements = arr[[0, 2, 4, 6]]\n",
    "print(\"Original Array:\", arr)\n",
    "print(\"Selected Elements:\", selected_elements)\n"
   ]
  },
  {
   "cell_type": "code",
   "execution_count": 39,
   "id": "c11c6e25-8630-4957-995a-464b7412dbfa",
   "metadata": {},
   "outputs": [
    {
     "name": "stdout",
     "output_type": "stream",
     "text": [
      "Original Array: [0 1 2 3 4 5 6 7 8 9]\n",
      "Reversed Array: [9 8 7 6 5 4 3 2 1 0]\n"
     ]
    }
   ],
   "source": [
    "arr = np.arange(10)\n",
    "reversed_arr = arr[::-1]\n",
    "print(\"Original Array:\", arr)\n",
    "print(\"Reversed Array:\", reversed_arr)\n"
   ]
  },
  {
   "cell_type": "code",
   "execution_count": 41,
   "id": "bb02c444-7998-4747-8beb-fc494fc62294",
   "metadata": {},
   "outputs": [
    {
     "name": "stdout",
     "output_type": "stream",
     "text": [
      "Original Matrix:\n",
      " [[7 5 9]\n",
      " [6 3 2]\n",
      " [9 9 5]]\n",
      "Row Vector: [1 2 3]\n",
      "Result After Broadcasting:\n",
      " [[ 8  7 12]\n",
      " [ 7  5  5]\n",
      " [10 11  8]]\n"
     ]
    }
   ],
   "source": [
    "matrix = np.random.randint(1, 10, (3, 3))\n",
    "row_vector = np.array([1, 2, 3])\n",
    "result = matrix + row_vector\n",
    "print(\"Original Matrix:\\n\", matrix)\n",
    "print(\"Row Vector:\", row_vector)\n",
    "print(\"Result After Broadcasting:\\n\", result)\n"
   ]
  },
  {
   "cell_type": "code",
   "execution_count": 43,
   "id": "ca6fabb9-3ee2-41e1-9424-a23275c80ce5",
   "metadata": {},
   "outputs": [
    {
     "name": "stdout",
     "output_type": "stream",
     "text": [
      "Original Array: [ 2  4  6  8 10]\n",
      "Scalar Value: 3\n",
      "Result After Broadcasting: [ 6 12 18 24 30]\n"
     ]
    }
   ],
   "source": [
    "arr = np.array([2, 4, 6, 8, 10])\n",
    "scalar = 3\n",
    "result = arr * scalar\n",
    "print(\"Original Array:\", arr)\n",
    "print(\"Scalar Value:\", scalar)\n",
    "print(\"Result After Broadcasting:\", result)\n"
   ]
  },
  {
   "cell_type": "code",
   "execution_count": 45,
   "id": "f584c543-ba0f-44e2-8b31-c9c2ba947088",
   "metadata": {},
   "outputs": [
    {
     "name": "stdout",
     "output_type": "stream",
     "text": [
      "Original Matrix:\n",
      " [[7 5 2]\n",
      " [8 3 9]\n",
      " [3 5 1]]\n",
      "Column Vector:\n",
      " [[1]\n",
      " [2]\n",
      " [3]]\n",
      "Result After Broadcasting:\n",
      " [[ 6  4  1]\n",
      " [ 6  1  7]\n",
      " [ 0  2 -2]]\n"
     ]
    }
   ],
   "source": [
    "matrix = np.random.randint(1, 10, (3, 3))\n",
    "column_vector = np.array([[1], [2], [3]])\n",
    "result = matrix - column_vector\n",
    "print(\"Original Matrix:\\n\", matrix)\n",
    "print(\"Column Vector:\\n\", column_vector)\n",
    "print(\"Result After Broadcasting:\\n\", result)\n"
   ]
  },
  {
   "cell_type": "code",
   "execution_count": 47,
   "id": "694a8d15-5334-4189-a6dd-38c7e6de3ed6",
   "metadata": {},
   "outputs": [
    {
     "name": "stdout",
     "output_type": "stream",
     "text": [
      "Original 3D Array:\n",
      " [[[2 5 3]\n",
      "  [3 6 9]\n",
      "  [6 3 9]]\n",
      "\n",
      " [[5 1 7]\n",
      "  [2 5 5]\n",
      "  [1 8 1]]]\n",
      "Scalar Value: 5\n",
      "Result After Broadcasting:\n",
      " [[[ 7 10  8]\n",
      "  [ 8 11 14]\n",
      "  [11  8 14]]\n",
      "\n",
      " [[10  6 12]\n",
      "  [ 7 10 10]\n",
      "  [ 6 13  6]]]\n"
     ]
    }
   ],
   "source": [
    "array_3d = np.random.randint(1, 10, (2, 3, 3))\n",
    "scalar = 5\n",
    "result = array_3d + scalar\n",
    "print(\"Original 3D Array:\\n\", array_3d)\n",
    "print(\"Scalar Value:\", scalar)\n",
    "print(\"Result After Broadcasting:\\n\", result)\n"
   ]
  },
  {
   "cell_type": "code",
   "execution_count": 49,
   "id": "8113b5e4-a99a-48d2-afa7-ac3c3bd8ae92",
   "metadata": {},
   "outputs": [
    {
     "name": "stdout",
     "output_type": "stream",
     "text": [
      "Array 1:\n",
      " [[1]\n",
      " [2]\n",
      " [3]\n",
      " [4]]\n",
      "Array 2:\n",
      " [[1 2 3 4 5]]\n",
      "Result After Broadcasting:\n",
      " [[2 3 4 5 6]\n",
      " [3 4 5 6 7]\n",
      " [4 5 6 7 8]\n",
      " [5 6 7 8 9]]\n"
     ]
    }
   ],
   "source": [
    "arr1 = np.arange(1, 5).reshape(4, 1)\n",
    "arr2 = np.arange(1, 6).reshape(1, 5)\n",
    "result = arr1 + arr2\n",
    "print(\"Array 1:\\n\", arr1)\n",
    "print(\"Array 2:\\n\", arr2)\n",
    "print(\"Result After Broadcasting:\\n\", result)\n"
   ]
  },
  {
   "cell_type": "code",
   "execution_count": 51,
   "id": "f0332f18-cfc2-4745-8fcf-64fa90a12c49",
   "metadata": {},
   "outputs": [
    {
     "name": "stdout",
     "output_type": "stream",
     "text": [
      "Original Matrix:\n",
      " [[15 13 13]\n",
      " [13 15  8]\n",
      " [19  3 16]]\n",
      "Square Root Matrix:\n",
      " [[3.87298335 3.60555128 3.60555128]\n",
      " [3.60555128 3.87298335 2.82842712]\n",
      " [4.35889894 1.73205081 4.        ]]\n"
     ]
    }
   ],
   "source": [
    "matrix = np.random.randint(1, 20, (3, 3))\n",
    "sqrt_matrix = np.sqrt(matrix)\n",
    "print(\"Original Matrix:\\n\", matrix)\n",
    "print(\"Square Root Matrix:\\n\", sqrt_matrix)\n"
   ]
  },
  {
   "cell_type": "code",
   "execution_count": 53,
   "id": "99010a08-20f3-4f95-ab66-c583b118cf7d",
   "metadata": {},
   "outputs": [
    {
     "name": "stdout",
     "output_type": "stream",
     "text": [
      "Array 1: [1 2 5 7 1]\n",
      "Array 2: [4 2 7 1 4]\n",
      "Dot Product: 54\n"
     ]
    }
   ],
   "source": [
    "arr1 = np.random.randint(1, 10, 5)\n",
    "arr2 = np.random.randint(1, 10, 5)\n",
    "dot_product = np.dot(arr1, arr2)\n",
    "print(\"Array 1:\", arr1)\n",
    "print(\"Array 2:\", arr2)\n",
    "print(\"Dot Product:\", dot_product)\n"
   ]
  },
  {
   "cell_type": "code",
   "execution_count": 55,
   "id": "5b3669a1-58b2-4ad6-a8c2-c6f2c3b1267b",
   "metadata": {},
   "outputs": [
    {
     "name": "stdout",
     "output_type": "stream",
     "text": [
      "Array 1: [12 13 18  9 13]\n",
      "Array 2: [18 19  6  4 19]\n",
      "Comparison Result (arr1 > arr2): [False False  True  True False]\n"
     ]
    }
   ],
   "source": [
    "arr1 = np.random.randint(1, 20, 5)\n",
    "arr2 = np.random.randint(1, 20, 5)\n",
    "comparison = arr1 > arr2\n",
    "print(\"Array 1:\", arr1)\n",
    "print(\"Array 2:\", arr2)\n",
    "print(\"Comparison Result (arr1 > arr2):\", comparison)\n"
   ]
  },
  {
   "cell_type": "code",
   "execution_count": 57,
   "id": "b3e93ece-3df8-4ea4-8b6d-afb9d86b2c2f",
   "metadata": {},
   "outputs": [
    {
     "name": "stdout",
     "output_type": "stream",
     "text": [
      "Original Matrix:\n",
      " [[2 9 6]\n",
      " [9 3 5]\n",
      " [8 9 7]]\n",
      "Doubled Matrix:\n",
      " [[ 4 18 12]\n",
      " [18  6 10]\n",
      " [16 18 14]]\n"
     ]
    }
   ],
   "source": [
    "matrix = np.random.randint(1, 10, (3, 3))\n",
    "doubled_matrix = matrix * 2\n",
    "print(\"Original Matrix:\\n\", matrix)\n",
    "print(\"Doubled Matrix:\\n\", doubled_matrix)\n"
   ]
  },
  {
   "cell_type": "code",
   "execution_count": 59,
   "id": "8af1e2e1-dcbf-4b33-9db1-5a3db24055ee",
   "metadata": {},
   "outputs": [
    {
     "name": "stdout",
     "output_type": "stream",
     "text": [
      "Original Array: [31 82 80 31 39 10 11 11 77  6 41 80 24 38 84 22 31 24 89 82 25  1 89 35\n",
      " 88 86 31 64 45 98 57 41 83 99  8 70 64 16 26 18 47 25 83 20 25 47 61 79\n",
      " 52 85 66 94 70 40 65  9 65 95 25 80  1 74 49 61 49 92 21 70  4 83 16 62\n",
      " 45 44  3 10 80 78 29 32 25 35 14 49 84 22 87 85 72 10 97 69  7 68 37 20\n",
      " 67 78 88 84]\n",
      "Sum of Even Numbers: 2594\n"
     ]
    }
   ],
   "source": [
    "arr = np.random.randint(1, 100, 100)\n",
    "even_sum = np.sum(arr[arr % 2 == 0])\n",
    "print(\"Original Array:\", arr)\n",
    "print(\"Sum of Even Numbers:\", even_sum)\n"
   ]
  },
  {
   "cell_type": "code",
   "execution_count": 61,
   "id": "4e333598-0819-4963-a81b-b218da215866",
   "metadata": {},
   "outputs": [
    {
     "name": "stdout",
     "output_type": "stream",
     "text": [
      "Matrix:\n",
      " [[5 3 2]\n",
      " [5 7 9]\n",
      " [5 9 6]]\n",
      "Determinant: -129.99999999999997\n"
     ]
    }
   ],
   "source": [
    "matrix = np.random.randint(1, 10, (3, 3))\n",
    "determinant = np.linalg.det(matrix)\n",
    "print(\"Matrix:\\n\", matrix)\n",
    "print(\"Determinant:\", determinant)\n"
   ]
  },
  {
   "cell_type": "code",
   "execution_count": 63,
   "id": "23f71977-bbd3-4824-9084-3bfdd59594bb",
   "metadata": {},
   "outputs": [
    {
     "name": "stdout",
     "output_type": "stream",
     "text": [
      "Original Matrix:\n",
      " [[9 7]\n",
      " [1 2]]\n",
      "Inverse Matrix:\n",
      " [[ 0.18181818 -0.63636364]\n",
      " [-0.09090909  0.81818182]]\n",
      "Verification (Original * Inverse):\n",
      " [[1. 0.]\n",
      " [0. 1.]]\n"
     ]
    }
   ],
   "source": [
    "matrix = np.random.randint(1, 10, (2, 2))\n",
    "if np.linalg.det(matrix) != 0:\n",
    "    inverse_matrix = np.linalg.inv(matrix)\n",
    "    identity_matrix = np.round(np.dot(matrix, inverse_matrix), decimals=6)\n",
    "    print(\"Original Matrix:\\n\", matrix)\n",
    "    print(\"Inverse Matrix:\\n\", inverse_matrix)\n",
    "    print(\"Verification (Original * Inverse):\\n\", identity_matrix)\n",
    "else:\n",
    "    print(\"Matrix is singular and cannot be inverted.\")\n"
   ]
  },
  {
   "cell_type": "code",
   "execution_count": 65,
   "id": "1dd0371c-389c-4544-867a-771c515d2f27",
   "metadata": {},
   "outputs": [
    {
     "name": "stdout",
     "output_type": "stream",
     "text": [
      "Matrix:\n",
      " [[1 7]\n",
      " [8 7]]\n",
      "Eigenvalues:\n",
      " [-4.06225775 12.06225775]\n",
      "Eigenvectors:\n",
      " [[-0.81031082 -0.53471965]\n",
      " [ 0.58600032 -0.84502952]]\n"
     ]
    }
   ],
   "source": [
    "matrix = np.random.randint(1, 10, (2, 2))\n",
    "eigenvalues, eigenvectors = np.linalg.eig(matrix)\n",
    "print(\"Matrix:\\n\", matrix)\n",
    "print(\"Eigenvalues:\\n\", eigenvalues)\n",
    "print(\"Eigenvectors:\\n\", eigenvectors)\n"
   ]
  },
  {
   "cell_type": "code",
   "execution_count": 67,
   "id": "bc6157ff-53d8-4377-8c93-a51e271c2b15",
   "metadata": {},
   "outputs": [
    {
     "name": "stdout",
     "output_type": "stream",
     "text": [
      "The system has no unique solution (singular matrix).\n"
     ]
    }
   ],
   "source": [
    "A = np.array([[2, 3], [4, 6]])\n",
    "B = np.array([5, 10])\n",
    "if np.linalg.det(A) != 0:\n",
    "    solution = np.linalg.solve(A, B)\n",
    "    print(\"Solution (x, y):\", solution)\n",
    "else:\n",
    "    print(\"The system has no unique solution (singular matrix).\")\n"
   ]
  },
  {
   "cell_type": "code",
   "execution_count": 69,
   "id": "c6eabbcb-5f39-4548-989a-70885576edca",
   "metadata": {},
   "outputs": [
    {
     "name": "stdout",
     "output_type": "stream",
     "text": [
      "Original Matrix:\n",
      " [[9 4 4]\n",
      " [7 2 1]\n",
      " [9 6 2]]\n",
      "U Matrix:\n",
      " [[-0.62820274  0.54270806  0.55752065]\n",
      " [-0.42800384  0.35735509 -0.83012652]\n",
      " [-0.6497492  -0.76010874  0.00778968]]\n",
      "Singular Values:\n",
      " [16.76228953  2.02950499  1.70492207]\n",
      "V Transpose Matrix:\n",
      " [[-0.86489345 -0.43355139 -0.25296743]\n",
      " [ 0.26847903 -0.82537862  0.49665798]\n",
      " [-0.42412066  0.36163979  0.83026401]]\n",
      "Reconstructed Matrix:\n",
      " [[9. 4. 4.]\n",
      " [7. 2. 1.]\n",
      " [9. 6. 2.]]\n"
     ]
    }
   ],
   "source": [
    "matrix = np.random.randint(1, 10, (3, 3))\n",
    "U, S, Vt = np.linalg.svd(matrix)\n",
    "S_matrix = np.diag(S)\n",
    "reconstructed_matrix = U @ S_matrix @ Vt\n",
    "print(\"Original Matrix:\\n\", matrix)\n",
    "print(\"U Matrix:\\n\", U)\n",
    "print(\"Singular Values:\\n\", S)\n",
    "print(\"V Transpose Matrix:\\n\", Vt)\n",
    "print(\"Reconstructed Matrix:\\n\", np.round(reconstructed_matrix, decimals=6))\n"
   ]
  },
  {
   "cell_type": "code",
   "execution_count": null,
   "id": "d9867a65-eb00-4dfc-9f21-1770d2e0edce",
   "metadata": {},
   "outputs": [],
   "source": []
  }
 ],
 "metadata": {
  "kernelspec": {
   "display_name": "Python [conda env:base] *",
   "language": "python",
   "name": "conda-base-py"
  },
  "language_info": {
   "codemirror_mode": {
    "name": "ipython",
    "version": 3
   },
   "file_extension": ".py",
   "mimetype": "text/x-python",
   "name": "python",
   "nbconvert_exporter": "python",
   "pygments_lexer": "ipython3",
   "version": "3.12.7"
  }
 },
 "nbformat": 4,
 "nbformat_minor": 5
}
